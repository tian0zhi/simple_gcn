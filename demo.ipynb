{
 "cells": [
  {
   "cell_type": "code",
   "execution_count": 20,
   "metadata": {},
   "outputs": [],
   "source": [
    "import torch\n",
    "import torch.nn as nn\n",
    "import torch.nn.functional as F\n",
    "\n",
    "class GCNLayer(nn.Module):\n",
    "    def __init__(self, input_dim, output_dim):\n",
    "        super(GCNLayer, self).__init__()\n",
    "        self.linear = nn.Linear(input_dim, output_dim,bias=False)\n",
    "\n",
    "    def forward(self, adj_matrix, node_features):\n",
    "        # GCN layer implementation\n",
    "        print(adj_matrix.shape,node_features.shape)\n",
    "        adjacency_hat = torch.matmul(adj_matrix, node_features)\n",
    "        print(adjacency_hat.shape,self.linear.weight.shape)\n",
    "        output = self.linear(adjacency_hat)\n",
    "        #output = torch.matmul(adjacency_hat, self.linear.weight)\n",
    "        return output\n",
    "\n",
    "class GCN(nn.Module):\n",
    "    def __init__(self, num_features, num_classes, hidden_dim):\n",
    "        super(GCN, self).__init__()\n",
    "        self.layer1 = GCNLayer(num_features, hidden_dim)\n",
    "        self.layer2 = GCNLayer(hidden_dim, num_classes)\n",
    "\n",
    "    def forward(self, adj_matrix, node_features):\n",
    "        h1 = F.relu(self.layer1(adj_matrix, node_features))\n",
    "        output = self.layer2(adj_matrix, h1)\n",
    "        return output\n"
   ]
  },
  {
   "cell_type": "code",
   "execution_count": 30,
   "metadata": {},
   "outputs": [
    {
     "name": "stdout",
     "output_type": "stream",
     "text": [
      "torch.Size([3, 3]) torch.Size([3, 2])\n",
      "torch.Size([3, 2]) torch.Size([4, 2])\n",
      "torch.Size([3, 3]) torch.Size([3, 4])\n",
      "torch.Size([3, 4]) torch.Size([2, 4])\n",
      "GCN输出： tensor([[ 0.2597, -4.4544],\n",
      "        [ 0.2684, -4.9387],\n",
      "        [ 0.2771, -5.4230]], grad_fn=<MmBackward>)\n"
     ]
    }
   ],
   "source": [
    "if __name__=='__main__':\n",
    "    # 构造一个简单的图，这里使用邻接矩阵表示\n",
    "    # 例如，如果有3个节点，邻接矩阵可以表示为：\n",
    "    # [[0, 1, 1],\n",
    "    #  [1, 0, 1],\n",
    "    #  [1, 1, 0]]\n",
    "    adj_matrix = torch.tensor([[0, 1, 1], [1, 0, 1], [1, 1, 0]], dtype=torch.float32)\n",
    "    # 节点特征向量\n",
    "    node_features = torch.tensor([[1.0, 2.0], [2.0, 3.0], [3.0, 4.0]], dtype=torch.float32)\n",
    "    # 创建GCN模型\n",
    "    model = GCN(num_features=2, num_classes=2, hidden_dim=4)\n",
    "     # 执行前向传播\n",
    "    output = model(adj_matrix, node_features)\n",
    "    print(\"GCN输出：\", output)"
   ]
  }
 ],
 "metadata": {
  "kernelspec": {
   "display_name": "Pytorch",
   "language": "python",
   "name": "pytorch"
  },
  "language_info": {
   "codemirror_mode": {
    "name": "ipython",
    "version": 3
   },
   "file_extension": ".py",
   "mimetype": "text/x-python",
   "name": "python",
   "nbconvert_exporter": "python",
   "pygments_lexer": "ipython3",
   "version": "3.7.0"
  }
 },
 "nbformat": 4,
 "nbformat_minor": 2
}
